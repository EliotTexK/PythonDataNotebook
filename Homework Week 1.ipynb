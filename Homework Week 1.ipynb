{
 "cells": [
  {
   "cell_type": "markdown",
   "id": "9dd9333b-8166-4596-a419-1767ba7be3a7",
   "metadata": {},
   "source": [
    "# Homework Week 1\n",
    "## Fibbonacci Maker"
   ]
  },
  {
   "cell_type": "code",
   "execution_count": 5,
   "id": "c7aa78d9-68ea-4af1-990b-7c54aababdc5",
   "metadata": {},
   "outputs": [
    {
     "name": "stdin",
     "output_type": "stream",
     "text": [
      "Input first number: 1\n",
      "Input second number: 2\n"
     ]
    },
    {
     "name": "stdout",
     "output_type": "stream",
     "text": [
      "1 2 3 5 8 13 21 34 55 89 144 233 377 610 987 1597 2584 4181 6765 10946 17711 28657 46368 75025 121393 196418 317811 514229 832040 1346269 2178309\n"
     ]
    }
   ],
   "source": [
    "def makeFib(n1,n2):\n",
    "\n",
    "    numList = [n1,n2]\n",
    "\n",
    "    for i in range(0,29):\n",
    "        numList.append(numList[-1] + numList[-2])\n",
    "        \n",
    "    return numList\n",
    "\n",
    "print(*makeFib(int(input(\"Input first number:\")), int(input(\"Input second number:\"))))"
   ]
  },
  {
   "cell_type": "markdown",
   "id": "33a4b17a-6d24-4332-b84f-2181d3a96c39",
   "metadata": {},
   "source": [
    "## Mortgage Calculator: Monthly Payment and Graph"
   ]
  },
  {
   "cell_type": "markdown",
   "id": "e737dfa0-8c94-485f-ab98-09b5a282a8d4",
   "metadata": {},
   "source": [
    "$\n",
    "\\begin{align}\n",
    "\\large\n",
    "P=L\\frac{c\\,(1+c)^n}{(1+c)^n-1}\n",
    "\\end{align}\n",
    "$"
   ]
  },
  {
   "cell_type": "code",
   "execution_count": 7,
   "id": "95f88664-6287-4112-91e7-fd4691768a51",
   "metadata": {},
   "outputs": [
    {
     "name": "stdin",
     "output_type": "stream",
     "text": [
      "House Price ($)?  350000\n",
      "Mortgage rate (%)?  3.5\n",
      "Term length (years)?  15\n"
     ]
    },
    {
     "name": "stdout",
     "output_type": "stream",
     "text": [
      "\n",
      "Monthly Payment: $2,502.09\n",
      "Total Interest Paid to the Bank: $100,376.00\n"
     ]
    },
    {
     "data": {
      "image/png": "[encoded data removed]",
      "text/plain": [
       "<Figure size 432x288 with 1 Axes>"
      ]
     },
     "metadata": {
      "needs_background": "light"
     },
     "output_type": "display_data"
    }
   ],
   "source": [
    "import matplotlib.pyplot as plt\n",
    "\n",
    "L = float(input(\"House Price ($)? \"))\n",
    "r = float(input(\"Mortgage rate (%)? \"))/100\n",
    "c = r/12\n",
    "termLength = int(input(\"Term length (years)? \")) #total number of years spent paying the mortgage, not the time between payments, which is assumed to be 1 month\n",
    "n = 12 * termLength\n",
    "P = L*(c*(1+c)**n)/((1+c)**n-1)\n",
    "\n",
    "principleOwed = [L]\n",
    "principlePaid = [0]\n",
    "\n",
    "interestOwed = [0]\n",
    "interestPaid = [0]\n",
    "\n",
    "totalPaid = [0]\n",
    "totalOwed = [L]\n",
    "\n",
    "for i in range(n):\n",
    "    newInterest = interestOwed[-1] #calculate new interest, starting with previous amount owed\n",
    "    \n",
    "    interestAccrued = (principleOwed[-1] + interestOwed[-1])*c #calculate accrued interest based on balance owed, interest owed, and interest rate\n",
    "    newInterest += interestAccrued #add accrued interest\n",
    "    \n",
    "    interestPayment = P - L/n #pay off some of the interest\n",
    "    interestPaid.append(interestPaid[-1] + interestPayment) #track interest paid\n",
    "    \n",
    "    newInterest -= interestPayment #apply interest payment\n",
    "    interestOwed.append(newInterest) #track interest owed\n",
    "    \n",
    "    \n",
    "    newBalance = principleOwed[-1] #calculate new balance, starting with previous amount owed\n",
    "    \n",
    "    balancePayment = L/n #pay off some of the balance\n",
    "    principlePaid.append(principlePaid[-1] + balancePayment) #track balance paid\n",
    "    \n",
    "    newBalance -= balancePayment #apply balance payment\n",
    "    principleOwed.append(newBalance) #track balance owed\n",
    "    \n",
    "    totalPaid.append(principlePaid[-1] + interestPaid[-1]) #calculate total amount paid\n",
    "    totalOwed.append(principleOwed[-1] + interestOwed[-1]) #calculate total amount owed\n",
    "\n",
    "print(\"\")\n",
    "print(\"Monthly Payment:\", \"${:,.2f}\".format(P))\n",
    "#print(\"Total $$$ Paid to the Bank:\", \"${:,.2f}\".format(totalPaid[-1]))\n",
    "print(\"Total Interest Paid to the Bank:\", \"${:,.2f}\".format(totalPaid[-1] - L))\n",
    "\n",
    "plt.plot(range(len(principleOwed)), totalPaid, label = \"total amount paid\", c = 'g')\n",
    "plt.plot(range(len(principlePaid)), totalOwed, label = \"total amount owed\", c = 'r')\n",
    "plt.title('Mortgage Payment')\n",
    "plt.ylabel('$$$')\n",
    "plt.xlabel('Months')\n",
    "plt.legend()\n",
    "plt.show()"
   ]
  },
  {
   "cell_type": "markdown",
   "id": "4757a001-0cce-44b4-8c53-6cb0c8381966",
   "metadata": {},
   "source": [
    "## Mortgage Calculator: House Value"
   ]
  },
  {
   "cell_type": "markdown",
   "id": "180a58fc-a3a5-4c42-a76d-7b5e4f1f1eb5",
   "metadata": {},
   "source": [
    "$\n",
    "\\begin{align}\n",
    "\\large\n",
    "L=P\\frac{(1+c)^n-1}{c\\,(1+c)^n}\n",
    "\\end{align}\n",
    "$"
   ]
  },
  {
   "cell_type": "code",
   "execution_count": 2,
   "id": "0fb5c922-e9e2-4061-bd2c-fa82c8c54d36",
   "metadata": {},
   "outputs": [
    {
     "name": "stdin",
     "output_type": "stream",
     "text": [
      "Monthly Payment ($)?  500\n",
      "Mortgage rate (%)?  3.6\n",
      "Term length (years)?  20\n"
     ]
    },
    {
     "name": "stdout",
     "output_type": "stream",
     "text": [
      "House Value: $85,453.80\n",
      "Total Interest Paid: $34,546.20\n"
     ]
    }
   ],
   "source": [
    "P = float(input(\"Monthly Payment ($)? \"))\n",
    "r = float(input(\"Mortgage rate (%)? \"))/100\n",
    "c = r/12\n",
    "termLength = int(input(\"Term length (years)? \"))\n",
    "n = 12 * termLength\n",
    "L = P*((1+c)**n-1)/(c*(1+c)**n)\n",
    "\n",
    "print(\"House Value:\", \"${:,.2f}\".format(L))\n",
    "print(\"Total Interest Paid:\", \"${:,.2f}\".format(P*n - L))"
   ]
  }
 ],
 "metadata": {
  "kernelspec": {
   "display_name": "Python 3",
   "language": "python",
   "name": "python3"
  },
  "language_info": {
   "codemirror_mode": {
    "name": "ipython",
    "version": 3
   },
   "file_extension": ".py",
   "mimetype": "text/x-python",
   "name": "python",
   "nbconvert_exporter": "python",
   "pygments_lexer": "ipython3",
   "version": "3.8.8"
  }
 },
 "nbformat": 4,
 "nbformat_minor": 5
}
