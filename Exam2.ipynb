{
 "cells": [
  {
   "cell_type": "markdown",
   "id": "cda5746e-f158-42b7-8550-d4d5afb6902a",
   "metadata": {
    "tags": []
   },
   "source": [
    "# Exam 2\n",
    "## Decoding the secret message\n",
    "Note: Make sure you have the message file in the same directory as this program!"
   ]
  },
  {
   "cell_type": "code",
   "execution_count": 67,
   "id": "a405b988-c99e-4721-baad-5697198ef2ea",
   "metadata": {},
   "outputs": [
    {
     "name": "stdout",
     "output_type": "stream",
     "text": [
      "\n",
      "\n",
      "When you are old and grey and full of sleep,\n",
      "And nodding by the fire, take down this book,\n",
      "And slowly read, and dream of the soft look\n",
      "Your eyes had once, and of their shadows deep;\n",
      "\n",
      "How many loved your moments of glad grace,\n",
      "And loved your beauty with love false or true,\n",
      "But one man loved the pilgrim soul in you,\n",
      "And loved the sorrows of your changing face;\n",
      "\n",
      "And bending down beside the glowing bars,\n",
      "Murmur, a little sadly, how Love fled\n",
      "And paced upon the mountains overhead\n",
      "And hid his face amid a crowd of stars.\n",
      "\n",
      "\n",
      "ϥϥ\n"
     ]
    }
   ],
   "source": [
    "import numpy as np\n",
    "import math\n",
    "\n",
    "def Decode_msg(string, initial_point, parameter):\n",
    "    # we need to reconstruct the same set of chaos points,\n",
    "    # so this part of the code is literally just copied from the encoder\n",
    "    # the only difference is that we generate the same amount of points as in the\n",
    "    # input string, instead of multiplying that amount by 3\n",
    "    \n",
    "    def log_func(x,r):\n",
    "        return r*x*(1-x)\n",
    "    \n",
    "    R = 3.9+parameter/100000\n",
    "    \n",
    "    r0=R\n",
    "\n",
    "    X_0=initial_point/100000\n",
    "    # chaos points should be the same length as the encoded message\n",
    "    Steps=len(string)\n",
    "\n",
    "    X_old=X_0\n",
    "\n",
    "    Points=[]\n",
    "    \n",
    "    start_sequence = np.random.randint(Steps//3)\n",
    "    \n",
    "    for t in range(0,Steps):\n",
    "        Points.append(X_old) \n",
    "        X_new=log_func(X_old,r0)\n",
    "        X_old=X_new\n",
    "    \n",
    "    # here are the reconstructed chaos points\n",
    "    Points=np.array(Points)\n",
    "    \n",
    "    # next, let's convert the encoded message back into the right form:\n",
    "    # a list of numbers from zero to 1\n",
    "    encoded_msg = np.array([ord(char) for char in string])/100000\n",
    "    \n",
    "    # let's get our chaos points into the right format to subtract them\n",
    "    # the first two decimal places need to be zeroed out\n",
    "    first_two = np.array([np.trunc(num*100)/100 for num in Points])\n",
    "    \n",
    "    Points -= first_two\n",
    "    \n",
    "    # all decimals after the 5th place need to be removed\n",
    "    Points = np.trunc(Points*100000)/100000\n",
    "    \n",
    "    # now let's subtract the two lists\n",
    "    encoded = encoded_msg - Points\n",
    "    \n",
    "    # remove the zeroes\n",
    "    encoded = list(filter(lambda num: num != 0, encoded))\n",
    "    \n",
    "    # change back to integer values\n",
    "    encoded = [int(np.round(num*100000)) for num in encoded]\n",
    "    \n",
    "    decoded_str = ''\n",
    "    \n",
    "    for num in encoded:\n",
    "        try:\n",
    "            decoded_str += chr(num)\n",
    "        except:\n",
    "            # For some reason I still don't understand, some of the characters got corrupted.\n",
    "            # Since most of the message decrypted fine, I realized that they had\n",
    "            # just been offset by some constant amount (turned out to be -1000).\n",
    "            # Though I was able to fix things, I still don't know why this happens.\n",
    "            # It's not like specific characters got corrupted, either.\n",
    "            # Maybe my program is at fault, or there's a bug in the encryption process.\n",
    "            fix_offset = chr(num+1000)\n",
    "            decoded_str += fix_offset\n",
    "    \n",
    "    return decoded_str\n",
    "\n",
    "# I was not told which was the initial point and which was the parameter, but guess & check is easy in this case\n",
    "key1, key2 = 3567, 2673\n",
    "code_string = open(\"Secret_msg\",\"r\").read()\n",
    "print(Decode_msg(code_string, key1, key2))"
   ]
  },
  {
   "cell_type": "markdown",
   "id": "886d05f0-b3b3-4c91-bfb8-33c117bec1f4",
   "metadata": {},
   "source": [
    "# "
   ]
  }
 ],
 "metadata": {
  "kernelspec": {
   "display_name": "Python 3 (ipykernel)",
   "language": "python",
   "name": "python3"
  },
  "language_info": {
   "codemirror_mode": {
    "name": "ipython",
    "version": 3
   },
   "file_extension": ".py",
   "mimetype": "text/x-python",
   "name": "python",
   "nbconvert_exporter": "python",
   "pygments_lexer": "ipython3",
   "version": "3.8.10"
  }
 },
 "nbformat": 4,
 "nbformat_minor": 5
}
